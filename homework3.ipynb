{
  "cells": [
    {
      "cell_type": "markdown",
      "metadata": {
        "id": "Nc4TTvItKxrE"
      },
      "source": [
        "# Práctica Clase 3"
      ]
    },
    {
      "cell_type": "markdown",
      "metadata": {
        "id": "gkeorENXKxrL"
      },
      "source": [
        "## Numpy"
      ]
    },
    {
      "cell_type": "code",
      "execution_count": null,
      "metadata": {
        "id": "OBIvcUX_KxrM"
      },
      "outputs": [],
      "source": [
        "import numpy as np"
      ]
    },
    {
      "cell_type": "markdown",
      "metadata": {
        "id": "zodK-qt1KxrO"
      },
      "source": [
        "**Ejercicio 1**: Responder las siguientes preguntas:\n",
        "* ¿Qué operaciones se pueden hacer tanto en un arreglo de Numpy como en una lista? Dar un ejemplo en una celda.\n",
        "* ¿Qué operaciones se pueden hacer en un arreglo de Numpy pero NO en una lista? Explorar algunas opciones y dar un ejemplo en una celda.\n",
        "* ¿Cuál es la diferencia entre un arreglo de forma -shape- (n,), (n,1) y (1,n)? Pueden crear arreglos para intentar responder esa pregunta."
      ]
    },
    {
      "cell_type": "markdown",
      "metadata": {
        "id": "sOvp4PoFKxrP"
      },
      "source": [
        "A partir de una lista podemos crear un arreglo de numpy"
      ]
    },
    {
      "cell_type": "code",
      "execution_count": null,
      "metadata": {
        "id": "8tgdPrI0KxrP",
        "outputId": "9c8c1fb5-a8d4-4fbc-ca3b-64432c651bcd"
      },
      "outputs": [
        {
          "name": "stdout",
          "output_type": "stream",
          "text": [
            "[0, 1, 2, 3, 4, 5]\n",
            "[0 1 2 3 4 5]\n"
          ]
        }
      ],
      "source": [
        "lista = [0,1,2,3,4,5]\n",
        "arreglo = np.array(lista)\n",
        "print(lista)\n",
        "print(arreglo)"
      ]
    },
    {
      "cell_type": "markdown",
      "metadata": {
        "id": "p9Ug5h4rKxrR"
      },
      "source": [
        "Pero para algunos casos numpy tiene funciones que crean listas más rápidamente."
      ]
    },
    {
      "cell_type": "code",
      "execution_count": null,
      "metadata": {
        "id": "5PagG-I8KxrS",
        "outputId": "28f69f9f-ed6c-4f66-e656-bd66fdebd788"
      },
      "outputs": [
        {
          "name": "stdout",
          "output_type": "stream",
          "text": [
            "[0 1 2 3 4 5 6 7]\n"
          ]
        }
      ],
      "source": [
        "arreglo = np.arange(8)\n",
        "print(arreglo)"
      ]
    },
    {
      "cell_type": "markdown",
      "metadata": {
        "id": "gN_P8BXEKxrU"
      },
      "source": [
        "Algunas cosas que se pueden hacer con arreglos pero no con las listas:\n",
        "\n",
        "1. Sumarle un mismo elemento"
      ]
    },
    {
      "cell_type": "code",
      "execution_count": null,
      "metadata": {
        "id": "6HAPa1PLKxrV",
        "outputId": "6de18df0-103d-4de6-befd-b19218b527ed"
      },
      "outputs": [
        {
          "ename": "TypeError",
          "evalue": "can only concatenate list (not \"int\") to list",
          "output_type": "error",
          "traceback": [
            "\u001b[1;31m---------------------------------------------------------------------------\u001b[0m",
            "\u001b[1;31mTypeError\u001b[0m                                 Traceback (most recent call last)",
            "\u001b[1;32m~\\AppData\\Local\\Temp/ipykernel_23612/807820878.py\u001b[0m in \u001b[0;36m<module>\u001b[1;34m\u001b[0m\n\u001b[1;32m----> 1\u001b[1;33m \u001b[0mlista\u001b[0m \u001b[1;33m+\u001b[0m \u001b[1;36m1\u001b[0m\u001b[1;33m\u001b[0m\u001b[1;33m\u001b[0m\u001b[0m\n\u001b[0m",
            "\u001b[1;31mTypeError\u001b[0m: can only concatenate list (not \"int\") to list"
          ]
        }
      ],
      "source": [
        "lista + 1"
      ]
    },
    {
      "cell_type": "code",
      "execution_count": null,
      "metadata": {
        "id": "ErO7j19RKxrV"
      },
      "outputs": [],
      "source": [
        "arreglo = arreglo + 1"
      ]
    },
    {
      "cell_type": "code",
      "execution_count": null,
      "metadata": {
        "id": "2b142iD8KxrW",
        "outputId": "efc56670-e955-4924-c1ed-d079cff5b4f1"
      },
      "outputs": [
        {
          "data": {
            "text/plain": [
              "array([1, 2, 3, 4, 5, 6, 7, 8])"
            ]
          },
          "execution_count": 7,
          "metadata": {},
          "output_type": "execute_result"
        }
      ],
      "source": [
        "arreglo"
      ]
    },
    {
      "cell_type": "markdown",
      "metadata": {
        "id": "wg9JPvFOKxrW"
      },
      "source": [
        "2. Elevar al cuadrado todos los elementos"
      ]
    },
    {
      "cell_type": "code",
      "execution_count": null,
      "metadata": {
        "id": "7HMln4Z6KxrW",
        "outputId": "69e21c5d-0b97-4a2c-d3fa-724dd753583e"
      },
      "outputs": [
        {
          "ename": "TypeError",
          "evalue": "unsupported operand type(s) for ** or pow(): 'list' and 'int'",
          "output_type": "error",
          "traceback": [
            "\u001b[1;31m---------------------------------------------------------------------------\u001b[0m",
            "\u001b[1;31mTypeError\u001b[0m                                 Traceback (most recent call last)",
            "\u001b[1;32m~\\AppData\\Local\\Temp/ipykernel_23612/1350568419.py\u001b[0m in \u001b[0;36m<module>\u001b[1;34m\u001b[0m\n\u001b[1;32m----> 1\u001b[1;33m \u001b[0mlista\u001b[0m\u001b[1;33m**\u001b[0m\u001b[1;36m2\u001b[0m\u001b[1;33m\u001b[0m\u001b[1;33m\u001b[0m\u001b[0m\n\u001b[0m",
            "\u001b[1;31mTypeError\u001b[0m: unsupported operand type(s) for ** or pow(): 'list' and 'int'"
          ]
        }
      ],
      "source": [
        "lista**2"
      ]
    },
    {
      "cell_type": "code",
      "execution_count": null,
      "metadata": {
        "id": "92HY6Ai9KxrX",
        "outputId": "6c7a2d97-2fcc-43e0-be52-27964d7492f2"
      },
      "outputs": [
        {
          "data": {
            "text/plain": [
              "array([ 1,  4,  9, 16, 25, 36, 49, 64], dtype=int32)"
            ]
          },
          "execution_count": 9,
          "metadata": {},
          "output_type": "execute_result"
        }
      ],
      "source": [
        "arreglo**2"
      ]
    },
    {
      "cell_type": "markdown",
      "metadata": {
        "id": "hYxwU4uPKxrX"
      },
      "source": [
        "3. Sumar todos los elementos"
      ]
    },
    {
      "cell_type": "code",
      "execution_count": null,
      "metadata": {
        "id": "T_lGdhSCKxrX",
        "outputId": "7095536d-cb49-4ee2-d838-6b486e110d4a"
      },
      "outputs": [
        {
          "name": "stdout",
          "output_type": "stream",
          "text": [
            "36\n"
          ]
        },
        {
          "ename": "AttributeError",
          "evalue": "'list' object has no attribute 'sum'",
          "output_type": "error",
          "traceback": [
            "\u001b[1;31m---------------------------------------------------------------------------\u001b[0m",
            "\u001b[1;31mAttributeError\u001b[0m                            Traceback (most recent call last)",
            "\u001b[1;32m~\\AppData\\Local\\Temp/ipykernel_23612/1020896401.py\u001b[0m in \u001b[0;36m<module>\u001b[1;34m\u001b[0m\n\u001b[0;32m      1\u001b[0m \u001b[0mprint\u001b[0m\u001b[1;33m(\u001b[0m\u001b[0marreglo\u001b[0m\u001b[1;33m.\u001b[0m\u001b[0msum\u001b[0m\u001b[1;33m(\u001b[0m\u001b[1;33m)\u001b[0m\u001b[1;33m)\u001b[0m\u001b[1;33m\u001b[0m\u001b[1;33m\u001b[0m\u001b[0m\n\u001b[1;32m----> 2\u001b[1;33m \u001b[0mprint\u001b[0m\u001b[1;33m(\u001b[0m\u001b[0mlista\u001b[0m\u001b[1;33m.\u001b[0m\u001b[0msum\u001b[0m\u001b[1;33m(\u001b[0m\u001b[1;33m)\u001b[0m\u001b[1;33m)\u001b[0m\u001b[1;33m\u001b[0m\u001b[1;33m\u001b[0m\u001b[0m\n\u001b[0m",
            "\u001b[1;31mAttributeError\u001b[0m: 'list' object has no attribute 'sum'"
          ]
        }
      ],
      "source": [
        "print(arreglo.sum())\n",
        "print(lista.sum())"
      ]
    },
    {
      "cell_type": "code",
      "execution_count": null,
      "metadata": {
        "id": "2BLsoMmFKxrY",
        "outputId": "295a2b9b-4ed4-4ed2-a8c7-8aff0fd58b78"
      },
      "outputs": [
        {
          "name": "stdout",
          "output_type": "stream",
          "text": [
            "15\n"
          ]
        }
      ],
      "source": [
        "n = 0\n",
        "for e in lista:\n",
        "    n = n + e\n",
        "print(n)"
      ]
    },
    {
      "cell_type": "code",
      "execution_count": null,
      "metadata": {
        "id": "I-B8lbMVKxrZ",
        "outputId": "a22ebcd9-c0f8-4be2-b8d2-f5c355fdccb2"
      },
      "outputs": [
        {
          "data": {
            "text/plain": [
              "(6,)"
            ]
          },
          "execution_count": 12,
          "metadata": {},
          "output_type": "execute_result"
        }
      ],
      "source": [
        "arreglo.shape"
      ]
    },
    {
      "cell_type": "code",
      "execution_count": null,
      "metadata": {
        "id": "GGYbkzQ9KxrZ",
        "outputId": "f328df30-43d0-400d-dcae-69354540acaa"
      },
      "outputs": [
        {
          "name": "stdout",
          "output_type": "stream",
          "text": [
            "[[1 2 3 4 5 6]\n",
            " [1 2 3 4 5 6]\n",
            " [1 2 3 4 5 6]] . Shape = (3, 6) \n",
            "\n"
          ]
        }
      ],
      "source": [
        "arreglo = np.array([[1,2,3,4,5,6],[1,2,3,4,5,6],[1,2,3,4,5,6]]) #notar los corchetes extras\n",
        "print(arreglo,'. Shape =', arreglo.shape, \"\\n\")"
      ]
    },
    {
      "cell_type": "code",
      "execution_count": null,
      "metadata": {
        "id": "AuqzDOwAKxra",
        "outputId": "ce615a37-3634-4fef-e713-9f900f5a9069"
      },
      "outputs": [
        {
          "name": "stdout",
          "output_type": "stream",
          "text": [
            "[[1 2 3 4 5 6]] . Shape = (1, 6) \n",
            "\n"
          ]
        }
      ],
      "source": [
        "arreglo = np.array([[1,2,3,4,5,6]]) #notar los corchetes extras\n",
        "print(arreglo,'. Shape =', arreglo.shape, \"\\n\")"
      ]
    },
    {
      "cell_type": "code",
      "execution_count": null,
      "metadata": {
        "id": "--WvsRsAKxrb",
        "outputId": "7b5ac8e3-3abf-4505-e2c2-5cde907030ac"
      },
      "outputs": [
        {
          "name": "stdout",
          "output_type": "stream",
          "text": [
            "[[1]\n",
            " [2]\n",
            " [3]\n",
            " [4]\n",
            " [5]\n",
            " [6]] . Shape = (6, 1) \n",
            "\n"
          ]
        }
      ],
      "source": [
        "arreglo = np.array([[1,2,3,4,5,6]]).T #notar los corchetes extras\n",
        "print(arreglo,'. Shape =', arreglo.shape, \"\\n\")"
      ]
    },
    {
      "cell_type": "code",
      "execution_count": null,
      "metadata": {
        "id": "Fm4AcLUdKxrc",
        "outputId": "55d9a5b4-de0a-4736-c2ea-c7489116f872"
      },
      "outputs": [
        {
          "name": "stdout",
          "output_type": "stream",
          "text": [
            "Arreglo de (n,)\n",
            "[1 2 3 4 5 6] . Shape = (6,) \n",
            "\n",
            "Arreglo de (2,n)\n",
            "[[1 2 3 4 5 6]\n",
            " [1 2 3 4 5 6]] . Shape = (2, 6) \n",
            "\n",
            "Arreglo de (n,1)\n",
            "[[1]\n",
            " [2]\n",
            " [3]\n",
            " [4]\n",
            " [5]\n",
            " [6]] . Shape = (6, 1) \n",
            "\n",
            "[[1]\n",
            " [2]\n",
            " [3]\n",
            " [4]\n",
            " [5]\n",
            " [6]] . Shape = (6, 1)\n"
          ]
        }
      ],
      "source": [
        "#¿Cuál es la diferencia entre un arreglo de forma -shape- (n,), (n,1) y (1,n)?\n",
        "\n",
        "print('Arreglo de (n,)')\n",
        "arreglo = np.array([1,2,3,4,5,6])\n",
        "print(arreglo,'. Shape =', arreglo.shape, \"\\n\") # \"\\n\" imprime un salto de linea\n",
        "\n",
        "print('Arreglo de (2,n)')\n",
        "arreglo = np.array([[1,2,3,4,5,6],[1,2,3,4,5,6]]) #notar los corchetes extras\n",
        "print(arreglo,'. Shape =', arreglo.shape, \"\\n\")\n",
        "\n",
        "print('Arreglo de (n,1)')\n",
        "arreglo = np.array([[1,2,3,4,5,6]]) #notar los corchetes extras\n",
        "print(arreglo.T,'. Shape =', arreglo.T.shape, \"\\n\")   #notar .T, que significa transpuesto\n"
      ]
    },
    {
      "cell_type": "code",
      "execution_count": null,
      "metadata": {
        "id": "whwK1-6zKxrd"
      },
      "outputs": [],
      "source": [
        "### EXTRA 1###\n",
        "#Trasponer no es la unica forma de crear un arreglo de forma (n,1)'''\n",
        "arreglo = np.array([[1],[2],[3],[4],[5],[6]]) #notar los corchetes extras\n",
        "print(arreglo,'. Shape =', arreglo.shape)   #notar .T, que significa transpuesto"
      ]
    },
    {
      "cell_type": "code",
      "execution_count": null,
      "metadata": {
        "id": "IURDsnrMKxre",
        "outputId": "6ab11b64-6256-4e4c-e6f5-ebc95b59dedf"
      },
      "outputs": [
        {
          "data": {
            "text/plain": [
              "(2, 4)"
            ]
          },
          "execution_count": 43,
          "metadata": {},
          "output_type": "execute_result"
        }
      ],
      "source": [
        "a1 = np.array([[1,2,3,4],[5,6,7,8]])\n",
        "a1.shape"
      ]
    },
    {
      "cell_type": "code",
      "execution_count": null,
      "metadata": {
        "id": "mYtAkwRZKxrf",
        "outputId": "cb6e0e0a-4354-473e-a3f8-b2b9345977cb"
      },
      "outputs": [
        {
          "data": {
            "text/plain": [
              "(2, 4)"
            ]
          },
          "execution_count": 44,
          "metadata": {},
          "output_type": "execute_result"
        }
      ],
      "source": [
        "a2 = np.array([[1,2,3,4],[5,6,7,8]])\n",
        "a2.shape"
      ]
    },
    {
      "cell_type": "code",
      "execution_count": null,
      "metadata": {
        "id": "gubs1S5QKxrf",
        "outputId": "b9a75f85-2ffc-45f6-9b4e-aecc935029d8"
      },
      "outputs": [
        {
          "data": {
            "text/plain": [
              "(2, 4)"
            ]
          },
          "execution_count": 45,
          "metadata": {},
          "output_type": "execute_result"
        }
      ],
      "source": [
        "a3 = a1 * a2\n",
        "a3.shape"
      ]
    },
    {
      "cell_type": "code",
      "execution_count": null,
      "metadata": {
        "id": "JvpOzqC2Kxrg",
        "outputId": "cfeabac8-67f8-49ec-ccb6-14659c591e87"
      },
      "outputs": [
        {
          "data": {
            "text/plain": [
              "array([[ 1,  4,  9, 16],\n",
              "       [25, 36, 49, 64]])"
            ]
          },
          "execution_count": 46,
          "metadata": {},
          "output_type": "execute_result"
        }
      ],
      "source": [
        "a3"
      ]
    },
    {
      "cell_type": "markdown",
      "metadata": {
        "id": "Ufd38qDzKxrh"
      },
      "source": [
        "**Ejercicio 2**:\n",
        "* Escribir un arreglo con números enteros del 0 al 9. Pista: arange\n",
        "* Escribir un arreglo con 100 números equiespaciados del 0 al 9. Pista: linspace"
      ]
    },
    {
      "cell_type": "markdown",
      "metadata": {
        "id": "jjP0Zg4eKxri"
      },
      "source": [
        "**Ejercicio 3**:\n",
        "* Escribir un arreglo con números enteros del 10 al 100 y seleccionar aquellos que son divisibles por 3<br>\n",
        "Pista: mask"
      ]
    },
    {
      "cell_type": "markdown",
      "metadata": {
        "id": "8y6lS7vtKxri"
      },
      "source": [
        "**Ejercicio 4**:\n",
        "* Crear un arreglo de ceros de `shape` (5,10).\n",
        "* Reemplazar la segunda y cuarta fila con unos\n",
        "* Reemplazar la tercera y octava columna con dos (2)."
      ]
    },
    {
      "cell_type": "markdown",
      "metadata": {
        "id": "bRayooEMKxrj"
      },
      "source": [
        "**Ejercicio $\\infty$**:\n",
        "Hacer todos los ejercicios que puedan del siguiente link https://www.machinelearningplus.com/python/101-numpy-exercises-python/\n",
        "\n",
        "O de https://github.com/rougier/numpy-100"
      ]
    },
    {
      "cell_type": "markdown",
      "metadata": {
        "id": "gE-Fl8mJKxrj"
      },
      "source": [
        "Para explorar las funciones de creación de datos aleatorios:\n",
        "https://numpy.org/doc/stable/reference/random/legacy.html"
      ]
    },
    {
      "cell_type": "code",
      "execution_count": null,
      "metadata": {
        "id": "3CriGuQaKxrk",
        "outputId": "31197568-0dab-4ba8-b102-f4456dc1afe3"
      },
      "outputs": [
        {
          "data": {
            "text/plain": [
              "array([[[137.12277219, 187.22289567, 153.95764007],\n",
              "        [175.21869487, 188.10311988, 118.02508687]],\n",
              "\n",
              "       [[157.58773537, 166.74585121, 134.96866874],\n",
              "        [128.3807111 , 188.91447629, 150.68622952]],\n",
              "\n",
              "       [[168.77296873, 117.90287547, 115.19825164],\n",
              "        [123.86197814, 172.33144425, 165.7329653 ]],\n",
              "\n",
              "       [[157.35784374, 121.82035838, 100.01848734],\n",
              "        [195.39977874, 188.95736542, 121.54200787]]])"
            ]
          },
          "execution_count": 17,
          "metadata": {},
          "output_type": "execute_result"
        }
      ],
      "source": [
        "a = np.random.random((4,2,3)) * 100 + 100\n",
        "a"
      ]
    },
    {
      "cell_type": "code",
      "execution_count": null,
      "metadata": {
        "id": "D6lVcwu6Kxrk"
      },
      "outputs": [],
      "source": [
        "a = np.random.random((4,4))"
      ]
    },
    {
      "cell_type": "code",
      "execution_count": null,
      "metadata": {
        "id": "NCcl7AYYKxrk",
        "outputId": "2845d5c4-0bcf-4ac2-fa30-af7f7f2b8af8"
      },
      "outputs": [
        {
          "data": {
            "text/plain": [
              "array([[0.48673571, 0.50465005, 0.33227167, 0.86611167],\n",
              "       [0.14502147, 0.13692842, 0.56804006, 0.89177045],\n",
              "       [0.78692331, 0.25942502, 0.88516122, 0.32876297],\n",
              "       [0.78919257, 0.64347772, 0.02402004, 0.66363368]])"
            ]
          },
          "execution_count": 19,
          "metadata": {},
          "output_type": "execute_result"
        }
      ],
      "source": [
        "a"
      ]
    },
    {
      "cell_type": "code",
      "execution_count": null,
      "metadata": {
        "id": "M-Q9wziaKxrl"
      },
      "outputs": [],
      "source": [
        "a = np.array([[10,200,30,45,5,50],[5,20,30,40,50,0],[5,20,30,40,50,0],[5,20,30,40,50,0]], dtype=np.int8)"
      ]
    },
    {
      "cell_type": "code",
      "execution_count": null,
      "metadata": {
        "id": "OkeuUbKzKxrl",
        "outputId": "71aac6a8-4662-48a7-b291-692c669d23a3"
      },
      "outputs": [
        {
          "data": {
            "text/plain": [
              "array([[ 10, 200,  30,  45,   5, 100],\n",
              "       [  5,  20,  30,  40,  50,   0],\n",
              "       [  5,  20,  30,  40,  50,   0],\n",
              "       [  5,  20,  30,  40,  50,   0]], dtype=int16)"
            ]
          },
          "execution_count": 115,
          "metadata": {},
          "output_type": "execute_result"
        }
      ],
      "source": [
        "a"
      ]
    },
    {
      "cell_type": "code",
      "execution_count": null,
      "metadata": {
        "id": "kYjr7ZFHKxrm",
        "outputId": "ed90d817-1b00-4bab-b043-441c8f5ab290"
      },
      "outputs": [
        {
          "data": {
            "text/plain": [
              "519"
            ]
          },
          "execution_count": 21,
          "metadata": {},
          "output_type": "execute_result"
        }
      ],
      "source": [
        "a.sum()"
      ]
    },
    {
      "cell_type": "code",
      "execution_count": null,
      "metadata": {
        "id": "RTZDFnveKxru",
        "outputId": "6ef16351-4059-4940-da5e-af0408f8049e"
      },
      "outputs": [
        {
          "data": {
            "text/plain": [
              "23.924904214367643"
            ]
          },
          "execution_count": 22,
          "metadata": {},
          "output_type": "execute_result"
        }
      ],
      "source": [
        "a.std()"
      ]
    },
    {
      "cell_type": "code",
      "execution_count": null,
      "metadata": {
        "id": "q0VCDphQKxru"
      },
      "outputs": [],
      "source": [
        "a.sort(axis=1)"
      ]
    },
    {
      "cell_type": "code",
      "execution_count": null,
      "metadata": {
        "id": "i6U1BxiHKxrv",
        "outputId": "548610cb-aba0-4d96-dc48-2cdecd986cef"
      },
      "outputs": [
        {
          "data": {
            "text/plain": [
              "array([[-56,   5,  10,  30,  45,  50],\n",
              "       [  0,   5,  20,  30,  40,  50],\n",
              "       [  0,   5,  20,  30,  40,  50],\n",
              "       [  0,   5,  20,  30,  40,  50]], dtype=int8)"
            ]
          },
          "execution_count": 24,
          "metadata": {},
          "output_type": "execute_result"
        }
      ],
      "source": [
        "a"
      ]
    },
    {
      "cell_type": "code",
      "execution_count": null,
      "metadata": {
        "id": "TKJvMGOkKxrv",
        "outputId": "87ed78af-f2b9-4ff0-a5e1-db994f6de4e9"
      },
      "outputs": [
        {
          "data": {
            "text/plain": [
              "array([[-56,   5,  10,  30,  40,  50],\n",
              "       [  0,   5,  20,  30,  40,  50],\n",
              "       [  0,   5,  20,  30,  40,  50],\n",
              "       [  0,   5,  20,  30,  45,  50]], dtype=int8)"
            ]
          },
          "execution_count": 25,
          "metadata": {},
          "output_type": "execute_result"
        }
      ],
      "source": [
        "a.sort(axis=0)\n",
        "a"
      ]
    },
    {
      "cell_type": "code",
      "execution_count": null,
      "metadata": {
        "id": "Oq61rFLbKxrw",
        "outputId": "a99762fa-837b-4e0d-854f-b70c44ff570b"
      },
      "outputs": [
        {
          "data": {
            "text/plain": [
              "array([[ 0,  5, 20],\n",
              "       [ 0,  5, 20]], dtype=int8)"
            ]
          },
          "execution_count": 26,
          "metadata": {},
          "output_type": "execute_result"
        }
      ],
      "source": [
        "a[1:3,0:3]"
      ]
    },
    {
      "cell_type": "code",
      "execution_count": null,
      "metadata": {
        "id": "8ibd1l9WKxrx"
      },
      "outputs": [],
      "source": [
        "l =   [[ 10, 200,  30,  45,   5, 100],\n",
        "       [  5,  20,  30,  40,  50,   0],\n",
        "       [  5,  20,  30,  40,  50,   0],\n",
        "       [  5,  20,  30,  40,  50,   0]]"
      ]
    },
    {
      "cell_type": "code",
      "execution_count": null,
      "metadata": {
        "id": "Nj8wNRg7Kxry"
      },
      "outputs": [],
      "source": [
        "a = np.array([l])"
      ]
    },
    {
      "cell_type": "code",
      "execution_count": null,
      "metadata": {
        "id": "OrsXch-fKxr0",
        "outputId": "d1e9083e-67a5-400f-9dd2-2383dda161ed"
      },
      "outputs": [
        {
          "data": {
            "text/plain": [
              "(1, 4, 6)"
            ]
          },
          "execution_count": 31,
          "metadata": {},
          "output_type": "execute_result"
        }
      ],
      "source": [
        "a.shape"
      ]
    },
    {
      "cell_type": "code",
      "execution_count": null,
      "metadata": {
        "id": "NUCwaB-sKxr2",
        "outputId": "ba7e0d39-1ad8-46f3-c0c8-835f21817f8f"
      },
      "outputs": [
        {
          "data": {
            "text/plain": [
              "array([ 10, 200,  30,  45,   5, 100,   5,  20,  30,  40,  50,   0,   5,\n",
              "        20,  30,  40,  50,   0,   5,  20,  30,  40,  50,   0])"
            ]
          },
          "execution_count": 32,
          "metadata": {},
          "output_type": "execute_result"
        }
      ],
      "source": [
        "a.reshape(24)"
      ]
    },
    {
      "cell_type": "code",
      "execution_count": null,
      "metadata": {
        "id": "aSDDjbnBKxr4",
        "outputId": "3652dd1d-b933-4475-f3a7-2108b320a109"
      },
      "outputs": [
        {
          "name": "stdout",
          "output_type": "stream",
          "text": [
            "[[1 2 3 4 5 6]]\n"
          ]
        }
      ],
      "source": [
        "a = np.matrix([[1,2,3,4,5,6]])\n",
        "print(a)"
      ]
    },
    {
      "cell_type": "code",
      "execution_count": null,
      "metadata": {
        "id": "GDVv5PEoKxr6",
        "outputId": "4931eca4-deec-462d-d585-08d7c28a7698"
      },
      "outputs": [
        {
          "name": "stdout",
          "output_type": "stream",
          "text": [
            "[[1]\n",
            " [2]\n",
            " [3]\n",
            " [4]\n",
            " [5]\n",
            " [6]]\n"
          ]
        }
      ],
      "source": [
        "b = np.matrix([[1],[2],[3],[4],[5],[6]])\n",
        "print(b)"
      ]
    },
    {
      "cell_type": "code",
      "execution_count": null,
      "metadata": {
        "id": "ui-XaKmEKxr7",
        "outputId": "12b221c3-40ff-43a9-b538-104748aea271"
      },
      "outputs": [
        {
          "name": "stdout",
          "output_type": "stream",
          "text": [
            "[[91]]\n"
          ]
        }
      ],
      "source": [
        "c = a * b\n",
        "print(c)"
      ]
    },
    {
      "cell_type": "code",
      "execution_count": null,
      "metadata": {
        "id": "5EkUp06RKxr8",
        "outputId": "7daca720-6654-4eba-bd51-50530ae22a13"
      },
      "outputs": [
        {
          "name": "stdout",
          "output_type": "stream",
          "text": [
            "[[ 1  2  3  4  5  6]\n",
            " [ 2  4  6  8 10 12]\n",
            " [ 3  6  9 12 15 18]\n",
            " [ 4  8 12 16 20 24]\n",
            " [ 5 10 15 20 25 30]\n",
            " [ 6 12 18 24 30 36]]\n"
          ]
        }
      ],
      "source": [
        "d = b * a\n",
        "print(d)"
      ]
    }
  ],
  "metadata": {
    "kernelspec": {
      "display_name": "Python 3 (ipykernel)",
      "language": "python",
      "name": "python3"
    },
    "language_info": {
      "codemirror_mode": {
        "name": "ipython",
        "version": 3
      },
      "file_extension": ".py",
      "mimetype": "text/x-python",
      "name": "python",
      "nbconvert_exporter": "python",
      "pygments_lexer": "ipython3",
      "version": "3.9.7"
    },
    "colab": {
      "provenance": []
    }
  },
  "nbformat": 4,
  "nbformat_minor": 0
}